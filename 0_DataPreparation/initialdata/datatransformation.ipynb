{
 "cells": [
  {
   "cell_type": "code",
   "execution_count": null,
   "id": "b7a41cef",
   "metadata": {
    "vscode": {
     "languageId": "plaintext"
    }
   },
   "outputs": [],
   "source": [
    "import pandas as pd\n",
    "\n",
    "# Daten einlesen\n",
    "df_umsatz = pd.read_csv('merged_data_clean.csv')"
   ]
  }
 ],
 "metadata": {
  "language_info": {
   "name": "python"
  }
 },
 "nbformat": 4,
 "nbformat_minor": 5
}
