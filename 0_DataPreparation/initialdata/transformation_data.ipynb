{
 "cells": [
  {
   "cell_type": "markdown",
   "id": "2d877d42",
   "metadata": {},
   "source": [
    "## Classification of Temperature into Categories"
   ]
  },
  {
   "cell_type": "code",
   "execution_count": 16,
   "id": "a54b52c7",
   "metadata": {},
   "outputs": [
    {
     "name": "stdout",
     "output_type": "stream",
     "text": [
      "First few rows with new features:\n",
      "       Datum    Weekday  Bewoelkung  Temperatur  Windgeschwindigkeit  \\\n",
      "0 2012-01-01     Sunday         8.0        9.82                   14   \n",
      "1 2012-01-02     Monday         7.0        7.44                   12   \n",
      "2 2012-01-03    Tuesday         8.0        5.54                   18   \n",
      "3 2012-01-04  Wednesday         4.0        5.69                   19   \n",
      "4 2012-01-05   Thursday         6.0        5.30                   23   \n",
      "5 2012-01-06     Friday         3.0        2.62                   10   \n",
      "6 2012-01-07   Saturday         7.0        6.53                   14   \n",
      "7 2012-01-08     Sunday         7.0        5.96                   10   \n",
      "8 2012-01-09     Monday         8.0        5.15                   12   \n",
      "9 2012-01-10    Tuesday         6.0        6.11                   10   \n",
      "\n",
      "   Wettercode  id Warengruppe  Umsatz  KielerWoche  AverageTemp  \\\n",
      "0        58.0 NaN         NaN     NaN          NaN     6.504342   \n",
      "1         NaN NaN         NaN     NaN          NaN     3.062303   \n",
      "2        63.0 NaN         NaN     NaN          NaN     3.062303   \n",
      "3        80.0 NaN         NaN     NaN          NaN     3.062303   \n",
      "4        80.0 NaN         NaN     NaN          NaN     3.062303   \n",
      "5         NaN NaN         NaN     NaN          NaN     3.062303   \n",
      "6        61.0 NaN         NaN     NaN          NaN     3.062303   \n",
      "7        80.0 NaN         NaN     NaN          NaN     3.062303   \n",
      "8        61.0 NaN         NaN     NaN          NaN     4.240262   \n",
      "9         NaN NaN         NaN     NaN          NaN     4.240262   \n",
      "\n",
      "   Temp_Deviation           Temp_vs_Avg  \n",
      "0        3.315658  Significantly warmer  \n",
      "1        4.377697  Significantly warmer  \n",
      "2        2.477697  Significantly warmer  \n",
      "3        2.627697  Significantly warmer  \n",
      "4        2.237697  Significantly warmer  \n",
      "5       -0.442303                Normal  \n",
      "6        3.467697  Significantly warmer  \n",
      "7        2.897697  Significantly warmer  \n",
      "8        0.909738       Slightly warmer  \n",
      "9        1.869738  Significantly warmer  \n"
     ]
    }
   ],
   "source": [
    "import pandas as pd\n",
    "import numpy as np\n",
    "\n",
    "# Load data\n",
    "df = pd.read_csv('merged_data_clean.csv')\n",
    "\n",
    "# Convert date column to datetime\n",
    "df['Datum'] = pd.to_datetime(df['Datum'])\n",
    "\n",
    "# Add weekday column right after date\n",
    "df.insert(1, 'Weekday', df['Datum'].dt.day_name())\n",
    "\n",
    "# Extract year and calendar week (temporary for calculation)\n",
    "df['Year'] = df['Datum'].dt.year\n",
    "df['Week'] = df['Datum'].dt.isocalendar().week\n",
    "\n",
    "# Calculate average temperature per calendar week across all years\n",
    "weekly_avg_temp = df.groupby('Week')['Temperatur'].mean().reset_index()\n",
    "weekly_avg_temp.columns = ['Week', 'AverageTemp']\n",
    "\n",
    "# Add average temperatures to main dataframe\n",
    "df = df.merge(weekly_avg_temp, on='Week', how='left')\n",
    "\n",
    "# Calculate temperature deviation\n",
    "df['Temp_Deviation'] = df['Temperatur'] - df['AverageTemp']\n",
    "\n",
    "# Categorize temperature deviation\n",
    "def categorize_temp_deviation(deviation):\n",
    "    if abs(deviation) <= 0.5:\n",
    "        return \"Normal\"\n",
    "    elif 0.5 < deviation <= 1.5:\n",
    "        return \"Slightly warmer\"\n",
    "    elif deviation > 1.5:\n",
    "        return \"Significantly warmer\"\n",
    "    elif -1.5 <= deviation < -0.5:\n",
    "        return \"Slightly colder\"\n",
    "    else:  # deviation < -1.5\n",
    "        return \"Significantly colder\"\n",
    "\n",
    "df['Temp_vs_Avg'] = df['Temp_Deviation'].apply(categorize_temp_deviation)\n",
    "\n",
    "# Drop temporary columns\n",
    "df = df.drop(['Year', 'Week'], axis=1)\n",
    "\n",
    "# Replace Warengruppe numbers with product names\n",
    "warengruppe_mapping = {\n",
    "    1: 'Brot',\n",
    "    2: 'Brötchen', \n",
    "    3: 'Croissant',\n",
    "    4: 'Konditorei',\n",
    "    5: 'Kuchen',\n",
    "    6: 'Saisonbrot'\n",
    "}\n",
    "df['Warengruppe'] = df['Warengruppe'].map(warengruppe_mapping)\n",
    "\n",
    "# Display first few rows with new features\n",
    "print(\"First few rows with new features:\")\n",
    "print(df.head(10))\n",
    "\n",
    "# Save the updated DataFrame to a new CSV file\n",
    "df.to_csv('merged_data_with_temperature.csv', index=False)"
   ]
  },
  {
   "cell_type": "markdown",
   "id": "97d12d44",
   "metadata": {},
   "source": [
    "### Classification of Weather into Categories\n"
   ]
  },
  {
   "cell_type": "code",
   "execution_count": 17,
   "id": "6e85cfdb",
   "metadata": {},
   "outputs": [
    {
     "name": "stdout",
     "output_type": "stream",
     "text": [
      "New file saved as: merged_data_temperature+weather_impression.csv\n"
     ]
    }
   ],
   "source": [
    "import pandas as pd\n",
    "\n",
    "# 1. Load the CSV file\n",
    "df = pd.read_csv(\"merged_data_with_temperature.csv\")\n",
    "\n",
    "# 2. Fill missing weather codes with 0\n",
    "df['Wettercode'] = df['Wettercode'].fillna(0)\n",
    "\n",
    "# 3. Classify weather codes into categories\n",
    "def weather_rating_revised(code):\n",
    "    try:\n",
    "        code = int(code)\n",
    "    except:\n",
    "        return \"unknown\"\n",
    "    \n",
    "    if code in [0, 1, 2]:\n",
    "        return \"very good\"\n",
    "    elif code in [3, 4, 5, 6, 7, 8, 10, 11, 12] + list(range(28, 50)):\n",
    "        return \"good\"\n",
    "    elif code in [20, 21, 24, 25] + list(range(50, 60)) + list(range(60, 66)) + [91, 92]:\n",
    "        return \"okay\"\n",
    "    elif code in [13,22, 23, 26, 27] + list(range(68, 80)) + list(range(83, 89)) + [93, 94]:\n",
    "        return \"bad\"\n",
    "    elif code in [9, 17, 18, 19, 29] + list(range(30, 40)) + [80, 81, 82, 85, 86] + list(range(95, 100)):\n",
    "        return \"very bad\"\n",
    "    else:\n",
    "        return \"unknown\"\n",
    "\n",
    "# 4. Apply classification\n",
    "df['Weather_Impression'] = df['Wettercode'].apply(weather_rating_revised)\n",
    "\n",
    "\n",
    "# 5. Save the updated file\n",
    "df.to_csv(\"merged_data_temperature+weather_impression.csv\", index=False)\n",
    "print(\"New file saved as: merged_data_temperature+weather_impression.csv\")\n",
    "\n",
    "\n"
   ]
  },
  {
   "cell_type": "markdown",
   "id": "59c65802",
   "metadata": {},
   "source": [
    "### Addition of German holidays into csv"
   ]
  },
  {
   "cell_type": "code",
   "execution_count": 18,
   "id": "8685bb0c",
   "metadata": {},
   "outputs": [
    {
     "name": "stdout",
     "output_type": "stream",
     "text": [
      "Merged file saved with holiday information.\n"
     ]
    }
   ],
   "source": [
    "import pandas as pd\n",
    "\n",
    "# 1. Load main data\n",
    "df_main = pd.read_csv(\"merged_data_temperature+weather_impression.csv\")\n",
    "\n",
    "# 2. Load holidays data\n",
    "df_holidays = pd.read_csv(\"german_holidays.csv\")  \n",
    "\n",
    "# 3. Convert 'Datum' columns to datetime\n",
    "df_main['Datum'] = pd.to_datetime(df_main['Datum'])\n",
    "df_holidays['Datum'] = pd.to_datetime(df_holidays['Datum'])\n",
    "\n",
    "# 4. Merge on 'Datum'\n",
    "df_merged = pd.merge(df_main, df_holidays[['Datum', 'Is_Holiday']], on='Datum', how='left')\n",
    "\n",
    "# 5. Fill NaNs in 'Is_Holiday' with 0 (non-holiday)\n",
    "df_merged['Is_Holiday'] = df_merged['Is_Holiday'].fillna(0).astype(int)\n",
    "\n",
    "# 6. Save the updated file\n",
    "df_merged.to_csv(\"/workspaces/Bakery_predictions/0_DataPreparation/initialdata/merged_data_temperature+holidays+weather_impressions.csv\", index=False)\n",
    "\n",
    "print(\"Merged file saved with holiday information.\")\n"
   ]
  }
 ],
 "metadata": {
  "kernelspec": {
   "display_name": "Python 3",
   "language": "python",
   "name": "python3"
  },
  "language_info": {
   "codemirror_mode": {
    "name": "ipython",
    "version": 3
   },
   "file_extension": ".py",
   "mimetype": "text/x-python",
   "name": "python",
   "nbconvert_exporter": "python",
   "pygments_lexer": "ipython3",
   "version": "3.12.1"
  }
 },
 "nbformat": 4,
 "nbformat_minor": 5
}
