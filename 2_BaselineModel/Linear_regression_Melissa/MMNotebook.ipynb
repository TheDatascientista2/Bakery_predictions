{
 "cells": [
  {
   "cell_type": "code",
   "execution_count": null,
   "id": "48f6b1c2",
   "metadata": {},
   "outputs": [],
   "source": [
    "# Split Dataset into Train and Test\n",
    "# Training from 01.07.2013 - 31.07.2017\n",
    "# Testing from 01.08.2018 - 30.07.2019\n",
    "# Validation 01.08.2017 -  31.07.2018"
   ]
  },
  {
   "cell_type": "code",
   "execution_count": null,
   "id": "23a62ed9",
   "metadata": {},
   "outputs": [
    {
     "name": "stdout",
     "output_type": "stream",
     "text": [
      "/workspaces/Bakery_predictions/2_BaselineModel/Linear_regression_Melissa\n"
     ]
    },
    {
     "ename": "FileNotFoundError",
     "evalue": "[Errno 2] No such file or directory: '/0_DataPreparation/initialdata'",
     "output_type": "error",
     "traceback": [
      "\u001b[31m---------------------------------------------------------------------------\u001b[39m",
      "\u001b[31mFileNotFoundError\u001b[39m                         Traceback (most recent call last)",
      "\u001b[36mCell\u001b[39m\u001b[36m \u001b[39m\u001b[32mIn[2]\u001b[39m\u001b[32m, line 14\u001b[39m\n\u001b[32m      9\u001b[39m \u001b[38;5;28mprint\u001b[39m(os.getcwd())\n\u001b[32m     11\u001b[39m \u001b[38;5;66;03m# Import Data\u001b[39;00m\n\u001b[32m     12\u001b[39m \u001b[38;5;66;03m# set directory to initialdata folder of repository\u001b[39;00m\n\u001b[32m     13\u001b[39m \u001b[38;5;66;03m# change directory to\u001b[39;00m\n\u001b[32m---> \u001b[39m\u001b[32m14\u001b[39m \u001b[43mos\u001b[49m\u001b[43m.\u001b[49m\u001b[43mchdir\u001b[49m\u001b[43m(\u001b[49m\u001b[33;43m\"\u001b[39;49m\u001b[33;43m/0_DataPreparation/initialdata\u001b[39;49m\u001b[33;43m\"\u001b[39;49m\u001b[43m)\u001b[49m\n\u001b[32m     16\u001b[39m data = pd.read_csv(\u001b[33m\"\u001b[39m\u001b[33mtransformed_data.csv\u001b[39m\u001b[33m\"\u001b[39m)\n\u001b[32m     18\u001b[39m \u001b[38;5;66;03m# Convert the date column to datetime\u001b[39;00m\n",
      "\u001b[31mFileNotFoundError\u001b[39m: [Errno 2] No such file or directory: '/0_DataPreparation/initialdata'"
     ]
    }
   ],
   "source": [
    "# Split a Dataset into Train, Test and Validation\n",
    "import numpy as np\n",
    "from sklearn.model_selection import train_test_split\n",
    "from sklearn.model_selection import TimeSeriesSplit\n",
    "import pandas as pd\n",
    "import os\n",
    "\n",
    "# print current working directory\n",
    "print(os.getcwd())\n",
    "\n",
    "# Import Data\n",
    "# Set the correct path to your data file\n",
    "data_path = \"transformed_data.csv\"  # Update this if your file is in a subfolder\n",
    "\n",
    "if not os.path.exists(data_path):\n",
    "\traise FileNotFoundError(f\"File not found: {data_path}\")\n",
    "\n",
    "data = pd.read_csv(data_path)\n",
    "\n",
    "# Convert the date column to datetime\n",
    "data[\"Datum\"] = pd.to_datetime(data[\"Datum\"])\n",
    "\n",
    "# Define timeranges\n",
    "train_start = \"2013-07-01\"\n",
    "train_end = \"2017-07-31\"\n",
    "test_start = \"2018-08-01\"\n",
    "test_end = \"2019-07-31\"\n",
    "val_start = \"2017-08-01\"\n",
    "val_end = \"2018-07-31\"\n",
    "\n",
    "\n",
    "# Split the data into train, test and validation sets on dates\n",
    "train_data = data[(data[\"Datum\"] >= train_start) & (data[\"Datum\"] <= train_end)]\n",
    "test_data = data[(data[\"Datum\"] >= test_start) & (data[\"Datum\"] <= test_end)]\n",
    "val_data = data[(data[\"Datum\"] >= val_start) & (data[\"Datum\"] <= val_end)]\n",
    "\n",
    "# print shapes\n",
    "print(\"Train data shape:\", train_data.shape)\n",
    "print(\"Test data shape:\", test_data.shape)\n",
    "print(\"Validation data shape:\", val_data.shape)"
   ]
  },
  {
   "cell_type": "code",
   "execution_count": null,
   "id": "a2135c2c",
   "metadata": {},
   "outputs": [],
   "source": [
    "# Kaggle\n",
    "# https://www.kaggle.com/competitions/bakery-sales-prediction-summer-2025/\n",
    "\n",
    "# load test.csv\n",
    "kaggle_data = pd.read_csv(\"test.csv\")\n",
    "\n",
    "# convert the date column to datetime\n",
    "kaggle_data[\"Datum\"] = pd.to_datetime(kaggle_data[\"Datum\"])"
   ]
  }
 ],
 "metadata": {
  "kernelspec": {
   "display_name": "Python 3",
   "language": "python",
   "name": "python3"
  },
  "language_info": {
   "codemirror_mode": {
    "name": "ipython",
    "version": 3
   },
   "file_extension": ".py",
   "mimetype": "text/x-python",
   "name": "python",
   "nbconvert_exporter": "python",
   "pygments_lexer": "ipython3",
   "version": "3.12.1"
  }
 },
 "nbformat": 4,
 "nbformat_minor": 5
}
