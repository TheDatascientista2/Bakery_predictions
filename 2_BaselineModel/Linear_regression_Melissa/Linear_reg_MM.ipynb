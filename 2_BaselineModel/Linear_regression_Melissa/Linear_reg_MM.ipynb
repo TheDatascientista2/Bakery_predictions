{
 "cells": [
  {
   "cell_type": "code",
   "execution_count": 2,
   "id": "269634ce",
   "metadata": {},
   "outputs": [],
   "source": [
    "import matplotlib.pyplot as plt\n",
    "import numpy as np\n",
    "import pandas as pd\n",
    "import seaborn as sns\n",
    "\n",
    "# %pip install statsmodels\n",
    "# %pip install scipy\n",
    "import statsmodels.api as sm\n",
    "import scipy.stats as stats"
   ]
  },
  {
   "cell_type": "code",
   "execution_count": null,
   "id": "fee25687",
   "metadata": {},
   "outputs": [
    {
     "ename": "FileNotFoundError",
     "evalue": "[Errno 2] No such file or directory: 'Bakery_predictions/0_DataPreparation/initialdata'",
     "output_type": "error",
     "traceback": [
      "\u001b[31m---------------------------------------------------------------------------\u001b[39m",
      "\u001b[31mFileNotFoundError\u001b[39m                         Traceback (most recent call last)",
      "\u001b[36mCell\u001b[39m\u001b[36m \u001b[39m\u001b[32mIn[15]\u001b[39m\u001b[32m, line 3\u001b[39m\n\u001b[32m      1\u001b[39m \u001b[38;5;28;01mimport\u001b[39;00m\u001b[38;5;250m \u001b[39m\u001b[34;01mos\u001b[39;00m\n\u001b[32m----> \u001b[39m\u001b[32m3\u001b[39m \u001b[43mos\u001b[49m\u001b[43m.\u001b[49m\u001b[43mchdir\u001b[49m\u001b[43m(\u001b[49m\u001b[33;43m\"\u001b[39;49m\u001b[33;43mBakery_predictions/0_DataPreparation/initialdata\u001b[39;49m\u001b[33;43m\"\u001b[39;49m\u001b[43m)\u001b[49m\n\u001b[32m      6\u001b[39m \u001b[38;5;66;03m# load data from the merged_data_temperature+holidays+weather_impressions.csv\u001b[39;00m\n\u001b[32m      7\u001b[39m df = pd.read_csv(\u001b[33m\"\u001b[39m\u001b[33mmerged_data_temperature+holidays+weather_impressions.csv\u001b[39m\u001b[33m\"\u001b[39m)\n",
      "\u001b[31mFileNotFoundError\u001b[39m: [Errno 2] No such file or directory: 'Bakery_predictions/0_DataPreparation/initialdata'"
     ]
    }
   ],
   "source": [
    "\n",
    "# load data from the merged_data_temperature+holidays+weather_impressions.csv file"
   ]
  },
  {
   "cell_type": "code",
   "execution_count": null,
   "id": "99da900d",
   "metadata": {},
   "outputs": [],
   "source": [
    "\n",
    "\n",
    "# 2. Map numeric codes in 'Warengruppe' to category names to match training data\n",
    "mapping = {\n",
    "    1: \"Brot\",\n",
    "    2: \"Brötchen\",\n",
    "    3: \"Croissant\",\n",
    "    4: \"Konditorei\",\n",
    "    5: \"Kuchen\",\n",
    "    6: \"Saisonbrot\",\n",
    "}\n",
    "train_data[\"Warengruppe\"] = train_data[\"Warengruppe\"].map(mapping)"
   ]
  }
 ],
 "metadata": {
  "kernelspec": {
   "display_name": "Python 3",
   "language": "python",
   "name": "python3"
  },
  "language_info": {
   "codemirror_mode": {
    "name": "ipython",
    "version": 3
   },
   "file_extension": ".py",
   "mimetype": "text/x-python",
   "name": "python",
   "nbconvert_exporter": "python",
   "pygments_lexer": "ipython3",
   "version": "3.12.1"
  }
 },
 "nbformat": 4,
 "nbformat_minor": 5
}
