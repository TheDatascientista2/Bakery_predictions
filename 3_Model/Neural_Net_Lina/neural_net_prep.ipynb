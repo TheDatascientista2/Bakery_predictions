{
 "cells": [
  {
   "cell_type": "code",
   "execution_count": 1,
   "id": "7a64e56f",
   "metadata": {},
   "outputs": [
    {
     "data": {
      "application/vnd.microsoft.datawrangler.viewer.v0+json": {
       "columns": [
        {
         "name": "index",
         "rawType": "int64",
         "type": "integer"
        },
        {
         "name": "Datum",
         "rawType": "object",
         "type": "string"
        },
        {
         "name": "Bewoelkung",
         "rawType": "float64",
         "type": "float"
        },
        {
         "name": "Temperatur",
         "rawType": "float64",
         "type": "float"
        },
        {
         "name": "Windgeschwindigkeit",
         "rawType": "int64",
         "type": "integer"
        },
        {
         "name": "Wettercode",
         "rawType": "float64",
         "type": "float"
        },
        {
         "name": "id",
         "rawType": "float64",
         "type": "float"
        },
        {
         "name": "Warengruppe",
         "rawType": "float64",
         "type": "float"
        },
        {
         "name": "Umsatz",
         "rawType": "float64",
         "type": "float"
        },
        {
         "name": "KielerWoche",
         "rawType": "float64",
         "type": "float"
        }
       ],
       "ref": "3bf2d5cd-d251-448f-b016-4405f9c0c483",
       "rows": [
        [
         "0",
         "2012-01-01",
         "8.0",
         "9.82",
         "14",
         "58.0",
         null,
         null,
         null,
         null
        ],
        [
         "1",
         "2012-01-02",
         "7.0",
         "7.44",
         "12",
         null,
         null,
         null,
         null,
         null
        ],
        [
         "2",
         "2012-01-03",
         "8.0",
         "5.54",
         "18",
         "63.0",
         null,
         null,
         null,
         null
        ],
        [
         "3",
         "2012-01-04",
         "4.0",
         "5.69",
         "19",
         "80.0",
         null,
         null,
         null,
         null
        ],
        [
         "4",
         "2012-01-05",
         "6.0",
         "5.3",
         "23",
         "80.0",
         null,
         null,
         null,
         null
        ]
       ],
       "shape": {
        "columns": 9,
        "rows": 5
       }
      },
      "text/html": [
       "<div>\n",
       "<style scoped>\n",
       "    .dataframe tbody tr th:only-of-type {\n",
       "        vertical-align: middle;\n",
       "    }\n",
       "\n",
       "    .dataframe tbody tr th {\n",
       "        vertical-align: top;\n",
       "    }\n",
       "\n",
       "    .dataframe thead th {\n",
       "        text-align: right;\n",
       "    }\n",
       "</style>\n",
       "<table border=\"1\" class=\"dataframe\">\n",
       "  <thead>\n",
       "    <tr style=\"text-align: right;\">\n",
       "      <th></th>\n",
       "      <th>Datum</th>\n",
       "      <th>Bewoelkung</th>\n",
       "      <th>Temperatur</th>\n",
       "      <th>Windgeschwindigkeit</th>\n",
       "      <th>Wettercode</th>\n",
       "      <th>id</th>\n",
       "      <th>Warengruppe</th>\n",
       "      <th>Umsatz</th>\n",
       "      <th>KielerWoche</th>\n",
       "    </tr>\n",
       "  </thead>\n",
       "  <tbody>\n",
       "    <tr>\n",
       "      <th>0</th>\n",
       "      <td>2012-01-01</td>\n",
       "      <td>8.0</td>\n",
       "      <td>9.82</td>\n",
       "      <td>14</td>\n",
       "      <td>58.0</td>\n",
       "      <td>NaN</td>\n",
       "      <td>NaN</td>\n",
       "      <td>NaN</td>\n",
       "      <td>NaN</td>\n",
       "    </tr>\n",
       "    <tr>\n",
       "      <th>1</th>\n",
       "      <td>2012-01-02</td>\n",
       "      <td>7.0</td>\n",
       "      <td>7.44</td>\n",
       "      <td>12</td>\n",
       "      <td>NaN</td>\n",
       "      <td>NaN</td>\n",
       "      <td>NaN</td>\n",
       "      <td>NaN</td>\n",
       "      <td>NaN</td>\n",
       "    </tr>\n",
       "    <tr>\n",
       "      <th>2</th>\n",
       "      <td>2012-01-03</td>\n",
       "      <td>8.0</td>\n",
       "      <td>5.54</td>\n",
       "      <td>18</td>\n",
       "      <td>63.0</td>\n",
       "      <td>NaN</td>\n",
       "      <td>NaN</td>\n",
       "      <td>NaN</td>\n",
       "      <td>NaN</td>\n",
       "    </tr>\n",
       "    <tr>\n",
       "      <th>3</th>\n",
       "      <td>2012-01-04</td>\n",
       "      <td>4.0</td>\n",
       "      <td>5.69</td>\n",
       "      <td>19</td>\n",
       "      <td>80.0</td>\n",
       "      <td>NaN</td>\n",
       "      <td>NaN</td>\n",
       "      <td>NaN</td>\n",
       "      <td>NaN</td>\n",
       "    </tr>\n",
       "    <tr>\n",
       "      <th>4</th>\n",
       "      <td>2012-01-05</td>\n",
       "      <td>6.0</td>\n",
       "      <td>5.30</td>\n",
       "      <td>23</td>\n",
       "      <td>80.0</td>\n",
       "      <td>NaN</td>\n",
       "      <td>NaN</td>\n",
       "      <td>NaN</td>\n",
       "      <td>NaN</td>\n",
       "    </tr>\n",
       "  </tbody>\n",
       "</table>\n",
       "</div>"
      ],
      "text/plain": [
       "        Datum  Bewoelkung  Temperatur  Windgeschwindigkeit  Wettercode  id  \\\n",
       "0  2012-01-01         8.0        9.82                   14        58.0 NaN   \n",
       "1  2012-01-02         7.0        7.44                   12         NaN NaN   \n",
       "2  2012-01-03         8.0        5.54                   18        63.0 NaN   \n",
       "3  2012-01-04         4.0        5.69                   19        80.0 NaN   \n",
       "4  2012-01-05         6.0        5.30                   23        80.0 NaN   \n",
       "\n",
       "   Warengruppe  Umsatz  KielerWoche  \n",
       "0          NaN     NaN          NaN  \n",
       "1          NaN     NaN          NaN  \n",
       "2          NaN     NaN          NaN  \n",
       "3          NaN     NaN          NaN  \n",
       "4          NaN     NaN          NaN  "
      ]
     },
     "execution_count": 1,
     "metadata": {},
     "output_type": "execute_result"
    }
   ],
   "source": [
    "import pandas as pd\n",
    "import numpy as np\n",
    "import os\n",
    "\n",
    "data = pd.read_csv(\"../../1_DatasetCharacteristics/merged_data_clean.csv\")\n",
    "data.head() "
   ]
  },
  {
   "cell_type": "code",
   "execution_count": 8,
   "id": "85060afa",
   "metadata": {},
   "outputs": [],
   "source": [
    "# Convert 'Datum' column to datetime format\n",
    "data['Datum'] = pd.to_datetime(data['Datum'])\n",
    "\n",
    "# Exchange Nan in KielerWoche with 0\n",
    "data['KielerWoche'] = data['KielerWoche'].fillna(0)"
   ]
  },
  {
   "cell_type": "code",
   "execution_count": 9,
   "id": "06847858",
   "metadata": {},
   "outputs": [
    {
     "name": "stdout",
     "output_type": "stream",
     "text": [
      "(7009, 8)\n"
     ]
    },
    {
     "data": {
      "application/vnd.microsoft.datawrangler.viewer.v0+json": {
       "columns": [
        {
         "name": "index",
         "rawType": "int64",
         "type": "integer"
        },
        {
         "name": "Umsatz",
         "rawType": "float64",
         "type": "float"
        },
        {
         "name": "Bewoelkung",
         "rawType": "float64",
         "type": "float"
        },
        {
         "name": "Temperatur",
         "rawType": "float64",
         "type": "float"
        },
        {
         "name": "Windgeschwindigkeit",
         "rawType": "int64",
         "type": "integer"
        },
        {
         "name": "Wettercode",
         "rawType": "float64",
         "type": "float"
        },
        {
         "name": "id",
         "rawType": "float64",
         "type": "float"
        },
        {
         "name": "Warengruppe",
         "rawType": "float64",
         "type": "float"
        },
        {
         "name": "KielerWoche",
         "rawType": "float64",
         "type": "float"
        }
       ],
       "ref": "417cfe96-12ec-460a-9bc0-e825d82603ab",
       "rows": [
        [
         "394",
         "148.83",
         "6.0",
         "17.84",
         "15",
         "20.0",
         "1307011.0",
         "1.0",
         "0.0"
        ],
        [
         "395",
         "535.86",
         "6.0",
         "17.84",
         "15",
         "20.0",
         "1307012.0",
         "2.0",
         "0.0"
        ],
        [
         "396",
         "201.2",
         "6.0",
         "17.84",
         "15",
         "20.0",
         "1307013.0",
         "3.0",
         "0.0"
        ],
        [
         "397",
         "65.89",
         "6.0",
         "17.84",
         "15",
         "20.0",
         "1307014.0",
         "4.0",
         "0.0"
        ],
        [
         "398",
         "317.48",
         "6.0",
         "17.84",
         "15",
         "20.0",
         "1307015.0",
         "5.0",
         "0.0"
        ]
       ],
       "shape": {
        "columns": 8,
        "rows": 5
       }
      },
      "text/html": [
       "<div>\n",
       "<style scoped>\n",
       "    .dataframe tbody tr th:only-of-type {\n",
       "        vertical-align: middle;\n",
       "    }\n",
       "\n",
       "    .dataframe tbody tr th {\n",
       "        vertical-align: top;\n",
       "    }\n",
       "\n",
       "    .dataframe thead th {\n",
       "        text-align: right;\n",
       "    }\n",
       "</style>\n",
       "<table border=\"1\" class=\"dataframe\">\n",
       "  <thead>\n",
       "    <tr style=\"text-align: right;\">\n",
       "      <th></th>\n",
       "      <th>Umsatz</th>\n",
       "      <th>Bewoelkung</th>\n",
       "      <th>Temperatur</th>\n",
       "      <th>Windgeschwindigkeit</th>\n",
       "      <th>Wettercode</th>\n",
       "      <th>id</th>\n",
       "      <th>Warengruppe</th>\n",
       "      <th>KielerWoche</th>\n",
       "    </tr>\n",
       "  </thead>\n",
       "  <tbody>\n",
       "    <tr>\n",
       "      <th>394</th>\n",
       "      <td>148.83</td>\n",
       "      <td>6.0</td>\n",
       "      <td>17.84</td>\n",
       "      <td>15</td>\n",
       "      <td>20.0</td>\n",
       "      <td>1307011.0</td>\n",
       "      <td>1.0</td>\n",
       "      <td>0.0</td>\n",
       "    </tr>\n",
       "    <tr>\n",
       "      <th>395</th>\n",
       "      <td>535.86</td>\n",
       "      <td>6.0</td>\n",
       "      <td>17.84</td>\n",
       "      <td>15</td>\n",
       "      <td>20.0</td>\n",
       "      <td>1307012.0</td>\n",
       "      <td>2.0</td>\n",
       "      <td>0.0</td>\n",
       "    </tr>\n",
       "    <tr>\n",
       "      <th>396</th>\n",
       "      <td>201.20</td>\n",
       "      <td>6.0</td>\n",
       "      <td>17.84</td>\n",
       "      <td>15</td>\n",
       "      <td>20.0</td>\n",
       "      <td>1307013.0</td>\n",
       "      <td>3.0</td>\n",
       "      <td>0.0</td>\n",
       "    </tr>\n",
       "    <tr>\n",
       "      <th>397</th>\n",
       "      <td>65.89</td>\n",
       "      <td>6.0</td>\n",
       "      <td>17.84</td>\n",
       "      <td>15</td>\n",
       "      <td>20.0</td>\n",
       "      <td>1307014.0</td>\n",
       "      <td>4.0</td>\n",
       "      <td>0.0</td>\n",
       "    </tr>\n",
       "    <tr>\n",
       "      <th>398</th>\n",
       "      <td>317.48</td>\n",
       "      <td>6.0</td>\n",
       "      <td>17.84</td>\n",
       "      <td>15</td>\n",
       "      <td>20.0</td>\n",
       "      <td>1307015.0</td>\n",
       "      <td>5.0</td>\n",
       "      <td>0.0</td>\n",
       "    </tr>\n",
       "  </tbody>\n",
       "</table>\n",
       "</div>"
      ],
      "text/plain": [
       "     Umsatz  Bewoelkung  Temperatur  Windgeschwindigkeit  Wettercode  \\\n",
       "394  148.83         6.0       17.84                   15        20.0   \n",
       "395  535.86         6.0       17.84                   15        20.0   \n",
       "396  201.20         6.0       17.84                   15        20.0   \n",
       "397   65.89         6.0       17.84                   15        20.0   \n",
       "398  317.48         6.0       17.84                   15        20.0   \n",
       "\n",
       "            id  Warengruppe  KielerWoche  \n",
       "394  1307011.0          1.0          0.0  \n",
       "395  1307012.0          2.0          0.0  \n",
       "396  1307013.0          3.0          0.0  \n",
       "397  1307014.0          4.0          0.0  \n",
       "398  1307015.0          5.0          0.0  "
      ]
     },
     "execution_count": 9,
     "metadata": {},
     "output_type": "execute_result"
    }
   ],
   "source": [
    "# extract all features but Umsatz and Datum\n",
    "features = data.drop(columns=['Umsatz', 'Datum'])\n",
    "\n",
    "# Construct the prepared data set including the dependent variable ('label')\n",
    "prepared_data = pd.concat([data[['Umsatz']], features], axis=1)\n",
    "\n",
    "# Handle missing values by removing rows with any missing values\n",
    "prepared_data = prepared_data.dropna()\n",
    "\n",
    "# Display the shape of the prepared data set\n",
    "print(prepared_data.shape)\n",
    "# Display the first few rows of the prepared data set\n",
    "prepared_data.head()"
   ]
  },
  {
   "cell_type": "code",
   "execution_count": 10,
   "id": "a3480dbd",
   "metadata": {},
   "outputs": [
    {
     "name": "stdout",
     "output_type": "stream",
     "text": [
      "Training features dimensions: (4906, 7)\n",
      "Validation features dimensions: (1401, 7)\n",
      "Test features dimensions: (702, 7)\n",
      "\n",
      "Training labels dimensions: (4906, 1)\n",
      "Validation labels dimensions: (1401, 1)\n",
      "Test labels dimensions: (702, 1)\n"
     ]
    }
   ],
   "source": [
    "# Set a random seed for reproducibility\n",
    "np.random.seed(42)\n",
    "\n",
    "# Shuffle the data\n",
    "prepared_data = prepared_data.sample(frac=1).reset_index(drop=True)\n",
    "\n",
    "# Calculate the number of rows for each dataset\n",
    "n_total = len(prepared_data)\n",
    "n_training = int(0.7 * n_total)\n",
    "n_validation = int(0.20 * n_total)\n",
    "\n",
    "# Split the features and labels for training, validation, and test\n",
    "training_data = prepared_data.iloc[:n_training]\n",
    "validation_data = prepared_data.iloc[n_training:n_training+n_validation]\n",
    "test_data = prepared_data.iloc[n_training+n_validation:]\n",
    "\n",
    "# Separating features and labels\n",
    "training_features = training_data.drop('Umsatz', axis=1)\n",
    "validation_features = validation_data.drop('Umsatz', axis=1)\n",
    "test_features = test_data.drop('Umsatz', axis=1)\n",
    "\n",
    "training_labels = training_data[['Umsatz']]\n",
    "validation_labels = validation_data[['Umsatz']]\n",
    "test_labels = test_data[['Umsatz']]\n",
    "\n",
    "# Print dimensions of the dataframes\n",
    "print(\"Training features dimensions:\", training_features.shape)\n",
    "print(\"Validation features dimensions:\", validation_features.shape)\n",
    "print(\"Test features dimensions:\", test_features.shape)\n",
    "print()\n",
    "print(\"Training labels dimensions:\", training_labels.shape)\n",
    "print(\"Validation labels dimensions:\", validation_labels.shape)\n",
    "print(\"Test labels dimensions:\", test_labels.shape)"
   ]
  },
  {
   "cell_type": "code",
   "execution_count": 11,
   "id": "e00cc3ba",
   "metadata": {},
   "outputs": [],
   "source": [
    "# Create subdirectory for the pickle files\n",
    "subdirectory = \"pickle_data\"\n",
    "os.makedirs(subdirectory, exist_ok=True)\n",
    "\n",
    "# Export of the prepared data to subdirectory as pickle files\n",
    "training_features.to_pickle(f\"{subdirectory}/training_features.pkl\")\n",
    "validation_features.to_pickle(f\"{subdirectory}/validation_features.pkl\")\n",
    "test_features.to_pickle(f\"{subdirectory}/test_features.pkl\")\n",
    "training_labels.to_pickle(f\"{subdirectory}/training_labels.pkl\")\n",
    "validation_labels.to_pickle(f\"{subdirectory}/validation_labels.pkl\")\n",
    "test_labels.to_pickle(f\"{subdirectory}/test_labels.pkl\")"
   ]
  },
  {
   "cell_type": "code",
   "execution_count": null,
   "id": "4b31c986",
   "metadata": {},
   "outputs": [],
   "source": []
  }
 ],
 "metadata": {
  "kernelspec": {
   "display_name": "Python 3",
   "language": "python",
   "name": "python3"
  },
  "language_info": {
   "codemirror_mode": {
    "name": "ipython",
    "version": 3
   },
   "file_extension": ".py",
   "mimetype": "text/x-python",
   "name": "python",
   "nbconvert_exporter": "python",
   "pygments_lexer": "ipython3",
   "version": "3.12.1"
  }
 },
 "nbformat": 4,
 "nbformat_minor": 5
}
